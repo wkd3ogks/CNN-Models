{
 "cells": [
  {
   "cell_type": "code",
   "execution_count": 1,
   "metadata": {},
   "outputs": [],
   "source": [
    "%load_ext tensorboard"
   ]
  },
  {
   "cell_type": "code",
   "execution_count": 2,
   "metadata": {
    "id": "OJOyxAvtNsnf"
   },
   "outputs": [
    {
     "name": "stderr",
     "output_type": "stream",
     "text": [
      "2025-03-09 08:39:00.014931: I tensorflow/core/platform/cpu_feature_guard.cc:210] This TensorFlow binary is optimized to use available CPU instructions in performance-critical operations.\n",
      "To enable the following instructions: AVX2 FMA, in other operations, rebuild TensorFlow with the appropriate compiler flags.\n"
     ]
    }
   ],
   "source": [
    "import tensorflow as tf\n",
    "import numpy as np\n",
    "from model import ResNet"
   ]
  },
  {
   "cell_type": "code",
   "execution_count": null,
   "metadata": {},
   "outputs": [],
   "source": [
    "log_dir = \"logs/fit/plain56\"\n",
    "\n",
    "tensorboard_callback = tf.keras.callbacks.TensorBoard(log_dir=log_dir, histogram_freq=1)"
   ]
  },
  {
   "cell_type": "code",
   "execution_count": 4,
   "metadata": {
    "colab": {
     "base_uri": "https://localhost:8080/"
    },
    "executionInfo": {
     "elapsed": 5935,
     "status": "ok",
     "timestamp": 1740997919851,
     "user": {
      "displayName": "Daehan Jang",
      "userId": "06214587403263200738"
     },
     "user_tz": -540
    },
    "id": "bm2ZQc36DwhE",
    "outputId": "ce72fcbb-3006-4e86-bab6-b6afe9bb75bd"
   },
   "outputs": [],
   "source": [
    "(x_train, y_train), (x_test, y_test) = tf.keras.datasets.cifar10.load_data()"
   ]
  },
  {
   "cell_type": "code",
   "execution_count": null,
   "metadata": {
    "id": "90qx0I0HnotS"
   },
   "outputs": [],
   "source": [
    "pixel_mean = np.mean(x_train, axis=0)\n",
    "\n",
    "x_train = x_train - pixel_mean\n",
    "x_test = x_test - pixel_mean"
   ]
  },
  {
   "cell_type": "code",
   "execution_count": null,
   "metadata": {
    "id": "sv5oha2BWpNV"
   },
   "outputs": [],
   "source": [
    "x_train = tf.keras.layers.ZeroPadding2D(padding=(4, 4))(x_train)\n",
    "\n",
    "data_argumentation = tf.keras.Sequential([\n",
    "    tf.keras.layers.RandomFlip(mode='horizontal', seed=42),\n",
    "    tf.keras.layers.RandomCrop(32, 32, seed=42, name='random_crop')\n",
    "])"
   ]
  },
  {
   "cell_type": "code",
   "execution_count": null,
   "metadata": {
    "id": "Bdus_A_gNp1R"
   },
   "outputs": [
    {
     "name": "stdout",
     "output_type": "stream",
     "text": [
      "Successfully created 56-layer PlainNet\n"
     ]
    }
   ],
   "source": [
    "resnet = ResNet(n=9, is_plain=True)"
   ]
  },
  {
   "cell_type": "code",
   "execution_count": 10,
   "metadata": {
    "id": "jjAbc254Ywyt"
   },
   "outputs": [],
   "source": [
    "cifar_resnet = tf.keras.Sequential([\n",
    "    data_argumentation,\n",
    "    resnet\n",
    "])"
   ]
  },
  {
   "cell_type": "code",
   "execution_count": null,
   "metadata": {},
   "outputs": [],
   "source": [
    "class AccuracyError(tf.keras.metrics.Metric):\n",
    "    def __init__(self, name=\"accuracy_error\", **kwargs):\n",
    "        super(AccuracyError, self).__init__(name=name, **kwargs)\n",
    "        self.accuracy = tf.keras.metrics.Accuracy()\n",
    "\n",
    "    def update_state(self, y_true, y_pred, sample_weight=None):\n",
    "        y_pred = tf.argmax(y_pred, axis=-1) \n",
    "        self.accuracy.update_state(y_true, y_pred, sample_weight)\n",
    "\n",
    "    def result(self):\n",
    "        return 1.0 - self.accuracy.result()\n",
    "\n",
    "    def reset_state(self):\n",
    "        self.accuracy.reset_state()"
   ]
  },
  {
   "cell_type": "code",
   "execution_count": null,
   "metadata": {
    "id": "RN8rxCdKD9HG"
   },
   "outputs": [],
   "source": [
    "sgd_optimizer = tf.keras.optimizers.SGD(\n",
    "    learning_rate=0.1, momentum=0.9, weight_decay=0.0001\n",
    ")\n",
    "\n",
    "cifar_resnet.compile(\n",
    "               optimizer=sgd_optimizer,\n",
    "               loss='sparse_categorical_crossentropy',\n",
    "               metrics=['accuracy', AccuracyError()]\n",
    ")"
   ]
  },
  {
   "cell_type": "code",
   "execution_count": 13,
   "metadata": {},
   "outputs": [],
   "source": [
    "def lr_scheduler(epoch, lr):\n",
    "    iter_to_epoch = {'32k': 80, '48k': 122}\n",
    "    if epoch in [iter_to_epoch['32k'], iter_to_epoch['48k']]:\n",
    "        lr /= 10\n",
    "    return lr\n",
    "\n",
    "lr_callback = tf.keras.callbacks.LearningRateScheduler(lr_scheduler)"
   ]
  },
  {
   "cell_type": "code",
   "execution_count": 14,
   "metadata": {
    "colab": {
     "base_uri": "https://localhost:8080/"
    },
    "executionInfo": {
     "elapsed": 2034806,
     "status": "ok",
     "timestamp": 1740994451696,
     "user": {
      "displayName": "Daehan Jang",
      "userId": "06214587403263200738"
     },
     "user_tz": -540
    },
    "id": "EXGzhIuuD02y",
    "outputId": "8e7316bb-5389-4dc4-c07e-b02d4181880e"
   },
   "outputs": [
    {
     "name": "stdout",
     "output_type": "stream",
     "text": [
      "Epoch 1/160\n"
     ]
    },
    {
     "name": "stderr",
     "output_type": "stream",
     "text": [
      "2025-03-09 08:40:26.738084: I external/local_xla/xla/stream_executor/cuda/cuda_dnn.cc:465] Loaded cuDNN version 8906\n"
     ]
    },
    {
     "name": "stdout",
     "output_type": "stream",
     "text": [
      "\u001b[1m391/391\u001b[0m \u001b[32m━━━━━━━━━━━━━━━━━━━━\u001b[0m\u001b[37m\u001b[0m \u001b[1m64s\u001b[0m 107ms/step - accuracy: 0.1293 - accuracy_error: 0.8707 - loss: 2.2671 - learning_rate: 0.1000\n",
      "Epoch 2/160\n",
      "\u001b[1m391/391\u001b[0m \u001b[32m━━━━━━━━━━━━━━━━━━━━\u001b[0m\u001b[37m\u001b[0m \u001b[1m42s\u001b[0m 106ms/step - accuracy: 0.2229 - accuracy_error: 0.7771 - loss: 2.0428 - learning_rate: 0.1000\n",
      "Epoch 3/160\n",
      "\u001b[1m391/391\u001b[0m \u001b[32m━━━━━━━━━━━━━━━━━━━━\u001b[0m\u001b[37m\u001b[0m \u001b[1m42s\u001b[0m 107ms/step - accuracy: 0.2625 - accuracy_error: 0.7375 - loss: 1.9470 - learning_rate: 0.1000\n",
      "Epoch 4/160\n",
      "\u001b[1m391/391\u001b[0m \u001b[32m━━━━━━━━━━━━━━━━━━━━\u001b[0m\u001b[37m\u001b[0m \u001b[1m82s\u001b[0m 106ms/step - accuracy: 0.3088 - accuracy_error: 0.6912 - loss: 1.8403 - learning_rate: 0.1000\n",
      "Epoch 5/160\n",
      "\u001b[1m391/391\u001b[0m \u001b[32m━━━━━━━━━━━━━━━━━━━━\u001b[0m\u001b[37m\u001b[0m \u001b[1m82s\u001b[0m 106ms/step - accuracy: 0.3423 - accuracy_error: 0.6577 - loss: 1.7503 - learning_rate: 0.1000\n",
      "Epoch 6/160\n",
      "\u001b[1m391/391\u001b[0m \u001b[32m━━━━━━━━━━━━━━━━━━━━\u001b[0m\u001b[37m\u001b[0m \u001b[1m82s\u001b[0m 106ms/step - accuracy: 0.3625 - accuracy_error: 0.6375 - loss: 1.7007 - learning_rate: 0.1000\n",
      "Epoch 7/160\n",
      "\u001b[1m391/391\u001b[0m \u001b[32m━━━━━━━━━━━━━━━━━━━━\u001b[0m\u001b[37m\u001b[0m \u001b[1m41s\u001b[0m 106ms/step - accuracy: 0.3803 - accuracy_error: 0.6197 - loss: 1.6551 - learning_rate: 0.1000\n",
      "Epoch 8/160\n",
      "\u001b[1m391/391\u001b[0m \u001b[32m━━━━━━━━━━━━━━━━━━━━\u001b[0m\u001b[37m\u001b[0m \u001b[1m41s\u001b[0m 106ms/step - accuracy: 0.3879 - accuracy_error: 0.6121 - loss: 1.6320 - learning_rate: 0.1000\n",
      "Epoch 9/160\n",
      "\u001b[1m391/391\u001b[0m \u001b[32m━━━━━━━━━━━━━━━━━━━━\u001b[0m\u001b[37m\u001b[0m \u001b[1m82s\u001b[0m 106ms/step - accuracy: 0.4038 - accuracy_error: 0.5962 - loss: 1.5914 - learning_rate: 0.1000\n",
      "Epoch 10/160\n",
      "\u001b[1m391/391\u001b[0m \u001b[32m━━━━━━━━━━━━━━━━━━━━\u001b[0m\u001b[37m\u001b[0m \u001b[1m42s\u001b[0m 106ms/step - accuracy: 0.4230 - accuracy_error: 0.5770 - loss: 1.5605 - learning_rate: 0.1000\n",
      "Epoch 11/160\n",
      "\u001b[1m391/391\u001b[0m \u001b[32m━━━━━━━━━━━━━━━━━━━━\u001b[0m\u001b[37m\u001b[0m \u001b[1m42s\u001b[0m 107ms/step - accuracy: 0.4385 - accuracy_error: 0.5615 - loss: 1.5146 - learning_rate: 0.1000\n",
      "Epoch 12/160\n",
      "\u001b[1m391/391\u001b[0m \u001b[32m━━━━━━━━━━━━━━━━━━━━\u001b[0m\u001b[37m\u001b[0m \u001b[1m82s\u001b[0m 107ms/step - accuracy: 0.4550 - accuracy_error: 0.5450 - loss: 1.4757 - learning_rate: 0.1000\n",
      "Epoch 13/160\n",
      "\u001b[1m391/391\u001b[0m \u001b[32m━━━━━━━━━━━━━━━━━━━━\u001b[0m\u001b[37m\u001b[0m \u001b[1m82s\u001b[0m 106ms/step - accuracy: 0.4745 - accuracy_error: 0.5255 - loss: 1.4333 - learning_rate: 0.1000\n",
      "Epoch 14/160\n",
      "\u001b[1m391/391\u001b[0m \u001b[32m━━━━━━━━━━━━━━━━━━━━\u001b[0m\u001b[37m\u001b[0m \u001b[1m82s\u001b[0m 106ms/step - accuracy: 0.4827 - accuracy_error: 0.5173 - loss: 1.4145 - learning_rate: 0.1000\n",
      "Epoch 15/160\n",
      "\u001b[1m391/391\u001b[0m \u001b[32m━━━━━━━━━━━━━━━━━━━━\u001b[0m\u001b[37m\u001b[0m \u001b[1m41s\u001b[0m 105ms/step - accuracy: 0.4963 - accuracy_error: 0.5037 - loss: 1.3679 - learning_rate: 0.1000\n",
      "Epoch 16/160\n",
      "\u001b[1m391/391\u001b[0m \u001b[32m━━━━━━━━━━━━━━━━━━━━\u001b[0m\u001b[37m\u001b[0m \u001b[1m41s\u001b[0m 105ms/step - accuracy: 0.5149 - accuracy_error: 0.4851 - loss: 1.3255 - learning_rate: 0.1000\n",
      "Epoch 17/160\n",
      "\u001b[1m391/391\u001b[0m \u001b[32m━━━━━━━━━━━━━━━━━━━━\u001b[0m\u001b[37m\u001b[0m \u001b[1m41s\u001b[0m 106ms/step - accuracy: 0.5332 - accuracy_error: 0.4668 - loss: 1.2774 - learning_rate: 0.1000\n",
      "Epoch 18/160\n",
      "\u001b[1m391/391\u001b[0m \u001b[32m━━━━━━━━━━━━━━━━━━━━\u001b[0m\u001b[37m\u001b[0m \u001b[1m83s\u001b[0m 108ms/step - accuracy: 0.5520 - accuracy_error: 0.4480 - loss: 1.2339 - learning_rate: 0.1000\n",
      "Epoch 19/160\n",
      "\u001b[1m391/391\u001b[0m \u001b[32m━━━━━━━━━━━━━━━━━━━━\u001b[0m\u001b[37m\u001b[0m \u001b[1m39s\u001b[0m 100ms/step - accuracy: 0.5688 - accuracy_error: 0.4312 - loss: 1.1915 - learning_rate: 0.1000\n",
      "Epoch 20/160\n",
      "\u001b[1m391/391\u001b[0m \u001b[32m━━━━━━━━━━━━━━━━━━━━\u001b[0m\u001b[37m\u001b[0m \u001b[1m39s\u001b[0m 101ms/step - accuracy: 0.5935 - accuracy_error: 0.4065 - loss: 1.1281 - learning_rate: 0.1000\n",
      "Epoch 21/160\n",
      "\u001b[1m391/391\u001b[0m \u001b[32m━━━━━━━━━━━━━━━━━━━━\u001b[0m\u001b[37m\u001b[0m \u001b[1m38s\u001b[0m 97ms/step - accuracy: 0.6032 - accuracy_error: 0.3968 - loss: 1.1014 - learning_rate: 0.1000\n",
      "Epoch 22/160\n",
      "\u001b[1m391/391\u001b[0m \u001b[32m━━━━━━━━━━━━━━━━━━━━\u001b[0m\u001b[37m\u001b[0m \u001b[1m41s\u001b[0m 98ms/step - accuracy: 0.6211 - accuracy_error: 0.3789 - loss: 1.0598 - learning_rate: 0.1000\n",
      "Epoch 23/160\n",
      "\u001b[1m391/391\u001b[0m \u001b[32m━━━━━━━━━━━━━━━━━━━━\u001b[0m\u001b[37m\u001b[0m \u001b[1m37s\u001b[0m 96ms/step - accuracy: 0.6263 - accuracy_error: 0.3737 - loss: 1.0357 - learning_rate: 0.1000\n",
      "Epoch 24/160\n",
      "\u001b[1m391/391\u001b[0m \u001b[32m━━━━━━━━━━━━━━━━━━━━\u001b[0m\u001b[37m\u001b[0m \u001b[1m37s\u001b[0m 94ms/step - accuracy: 0.6483 - accuracy_error: 0.3517 - loss: 0.9843 - learning_rate: 0.1000\n",
      "Epoch 25/160\n",
      "\u001b[1m391/391\u001b[0m \u001b[32m━━━━━━━━━━━━━━━━━━━━\u001b[0m\u001b[37m\u001b[0m \u001b[1m37s\u001b[0m 94ms/step - accuracy: 0.6557 - accuracy_error: 0.3443 - loss: 0.9639 - learning_rate: 0.1000\n",
      "Epoch 26/160\n",
      "\u001b[1m391/391\u001b[0m \u001b[32m━━━━━━━━━━━━━━━━━━━━\u001b[0m\u001b[37m\u001b[0m \u001b[1m37s\u001b[0m 94ms/step - accuracy: 0.6611 - accuracy_error: 0.3389 - loss: 0.9461 - learning_rate: 0.1000\n",
      "Epoch 27/160\n",
      "\u001b[1m391/391\u001b[0m \u001b[32m━━━━━━━━━━━━━━━━━━━━\u001b[0m\u001b[37m\u001b[0m \u001b[1m37s\u001b[0m 95ms/step - accuracy: 0.6798 - accuracy_error: 0.3202 - loss: 0.9076 - learning_rate: 0.1000\n",
      "Epoch 28/160\n",
      "\u001b[1m391/391\u001b[0m \u001b[32m━━━━━━━━━━━━━━━━━━━━\u001b[0m\u001b[37m\u001b[0m \u001b[1m39s\u001b[0m 99ms/step - accuracy: 0.6865 - accuracy_error: 0.3135 - loss: 0.8838 - learning_rate: 0.1000\n",
      "Epoch 29/160\n",
      "\u001b[1m391/391\u001b[0m \u001b[32m━━━━━━━━━━━━━━━━━━━━\u001b[0m\u001b[37m\u001b[0m \u001b[1m40s\u001b[0m 103ms/step - accuracy: 0.6956 - accuracy_error: 0.3044 - loss: 0.8638 - learning_rate: 0.1000\n",
      "Epoch 30/160\n",
      "\u001b[1m391/391\u001b[0m \u001b[32m━━━━━━━━━━━━━━━━━━━━\u001b[0m\u001b[37m\u001b[0m \u001b[1m41s\u001b[0m 104ms/step - accuracy: 0.7027 - accuracy_error: 0.2973 - loss: 0.8462 - learning_rate: 0.1000\n",
      "Epoch 31/160\n",
      "\u001b[1m391/391\u001b[0m \u001b[32m━━━━━━━━━━━━━━━━━━━━\u001b[0m\u001b[37m\u001b[0m \u001b[1m42s\u001b[0m 107ms/step - accuracy: 0.7081 - accuracy_error: 0.2919 - loss: 0.8217 - learning_rate: 0.1000\n",
      "Epoch 32/160\n",
      "\u001b[1m391/391\u001b[0m \u001b[32m━━━━━━━━━━━━━━━━━━━━\u001b[0m\u001b[37m\u001b[0m \u001b[1m42s\u001b[0m 107ms/step - accuracy: 0.7199 - accuracy_error: 0.2801 - loss: 0.8011 - learning_rate: 0.1000\n",
      "Epoch 33/160\n",
      "\u001b[1m391/391\u001b[0m \u001b[32m━━━━━━━━━━━━━━━━━━━━\u001b[0m\u001b[37m\u001b[0m \u001b[1m40s\u001b[0m 103ms/step - accuracy: 0.7298 - accuracy_error: 0.2702 - loss: 0.7700 - learning_rate: 0.1000\n",
      "Epoch 34/160\n",
      "\u001b[1m391/391\u001b[0m \u001b[32m━━━━━━━━━━━━━━━━━━━━\u001b[0m\u001b[37m\u001b[0m \u001b[1m42s\u001b[0m 106ms/step - accuracy: 0.7304 - accuracy_error: 0.2696 - loss: 0.7637 - learning_rate: 0.1000\n",
      "Epoch 35/160\n",
      "\u001b[1m391/391\u001b[0m \u001b[32m━━━━━━━━━━━━━━━━━━━━\u001b[0m\u001b[37m\u001b[0m \u001b[1m41s\u001b[0m 105ms/step - accuracy: 0.7396 - accuracy_error: 0.2604 - loss: 0.7431 - learning_rate: 0.1000\n",
      "Epoch 36/160\n",
      "\u001b[1m391/391\u001b[0m \u001b[32m━━━━━━━━━━━━━━━━━━━━\u001b[0m\u001b[37m\u001b[0m \u001b[1m41s\u001b[0m 105ms/step - accuracy: 0.7450 - accuracy_error: 0.2550 - loss: 0.7328 - learning_rate: 0.1000\n",
      "Epoch 37/160\n",
      "\u001b[1m391/391\u001b[0m \u001b[32m━━━━━━━━━━━━━━━━━━━━\u001b[0m\u001b[37m\u001b[0m \u001b[1m42s\u001b[0m 106ms/step - accuracy: 0.7490 - accuracy_error: 0.2510 - loss: 0.7183 - learning_rate: 0.1000\n",
      "Epoch 38/160\n",
      "\u001b[1m391/391\u001b[0m \u001b[32m━━━━━━━━━━━━━━━━━━━━\u001b[0m\u001b[37m\u001b[0m \u001b[1m42s\u001b[0m 107ms/step - accuracy: 0.7511 - accuracy_error: 0.2489 - loss: 0.7035 - learning_rate: 0.1000\n",
      "Epoch 39/160\n",
      "\u001b[1m391/391\u001b[0m \u001b[32m━━━━━━━━━━━━━━━━━━━━\u001b[0m\u001b[37m\u001b[0m \u001b[1m40s\u001b[0m 102ms/step - accuracy: 0.7598 - accuracy_error: 0.2402 - loss: 0.6901 - learning_rate: 0.1000\n",
      "Epoch 40/160\n",
      "\u001b[1m391/391\u001b[0m \u001b[32m━━━━━━━━━━━━━━━━━━━━\u001b[0m\u001b[37m\u001b[0m \u001b[1m38s\u001b[0m 96ms/step - accuracy: 0.7646 - accuracy_error: 0.2354 - loss: 0.6790 - learning_rate: 0.1000\n",
      "Epoch 41/160\n",
      "\u001b[1m391/391\u001b[0m \u001b[32m━━━━━━━━━━━━━━━━━━━━\u001b[0m\u001b[37m\u001b[0m \u001b[1m43s\u001b[0m 103ms/step - accuracy: 0.7668 - accuracy_error: 0.2332 - loss: 0.6633 - learning_rate: 0.1000\n",
      "Epoch 42/160\n",
      "\u001b[1m391/391\u001b[0m \u001b[32m━━━━━━━━━━━━━━━━━━━━\u001b[0m\u001b[37m\u001b[0m \u001b[1m41s\u001b[0m 106ms/step - accuracy: 0.7702 - accuracy_error: 0.2298 - loss: 0.6615 - learning_rate: 0.1000\n",
      "Epoch 43/160\n",
      "\u001b[1m391/391\u001b[0m \u001b[32m━━━━━━━━━━━━━━━━━━━━\u001b[0m\u001b[37m\u001b[0m \u001b[1m82s\u001b[0m 106ms/step - accuracy: 0.7718 - accuracy_error: 0.2282 - loss: 0.6560 - learning_rate: 0.1000\n",
      "Epoch 44/160\n",
      "\u001b[1m391/391\u001b[0m \u001b[32m━━━━━━━━━━━━━━━━━━━━\u001b[0m\u001b[37m\u001b[0m \u001b[1m82s\u001b[0m 106ms/step - accuracy: 0.7809 - accuracy_error: 0.2191 - loss: 0.6333 - learning_rate: 0.1000\n",
      "Epoch 45/160\n",
      "\u001b[1m391/391\u001b[0m \u001b[32m━━━━━━━━━━━━━━━━━━━━\u001b[0m\u001b[37m\u001b[0m \u001b[1m42s\u001b[0m 106ms/step - accuracy: 0.7841 - accuracy_error: 0.2159 - loss: 0.6323 - learning_rate: 0.1000\n",
      "Epoch 46/160\n",
      "\u001b[1m391/391\u001b[0m \u001b[32m━━━━━━━━━━━━━━━━━━━━\u001b[0m\u001b[37m\u001b[0m \u001b[1m42s\u001b[0m 106ms/step - accuracy: 0.7842 - accuracy_error: 0.2158 - loss: 0.6226 - learning_rate: 0.1000\n",
      "Epoch 47/160\n",
      "\u001b[1m391/391\u001b[0m \u001b[32m━━━━━━━━━━━━━━━━━━━━\u001b[0m\u001b[37m\u001b[0m \u001b[1m42s\u001b[0m 107ms/step - accuracy: 0.7905 - accuracy_error: 0.2095 - loss: 0.6059 - learning_rate: 0.1000\n",
      "Epoch 48/160\n",
      "\u001b[1m391/391\u001b[0m \u001b[32m━━━━━━━━━━━━━━━━━━━━\u001b[0m\u001b[37m\u001b[0m \u001b[1m42s\u001b[0m 107ms/step - accuracy: 0.7913 - accuracy_error: 0.2087 - loss: 0.6007 - learning_rate: 0.1000\n",
      "Epoch 49/160\n",
      "\u001b[1m391/391\u001b[0m \u001b[32m━━━━━━━━━━━━━━━━━━━━\u001b[0m\u001b[37m\u001b[0m \u001b[1m42s\u001b[0m 106ms/step - accuracy: 0.8008 - accuracy_error: 0.1992 - loss: 0.5821 - learning_rate: 0.1000\n",
      "Epoch 50/160\n",
      "\u001b[1m391/391\u001b[0m \u001b[32m━━━━━━━━━━━━━━━━━━━━\u001b[0m\u001b[37m\u001b[0m \u001b[1m42s\u001b[0m 106ms/step - accuracy: 0.7940 - accuracy_error: 0.2060 - loss: 0.5927 - learning_rate: 0.1000\n",
      "Epoch 51/160\n",
      "\u001b[1m391/391\u001b[0m \u001b[32m━━━━━━━━━━━━━━━━━━━━\u001b[0m\u001b[37m\u001b[0m \u001b[1m42s\u001b[0m 106ms/step - accuracy: 0.7959 - accuracy_error: 0.2041 - loss: 0.5869 - learning_rate: 0.1000\n",
      "Epoch 52/160\n",
      "\u001b[1m391/391\u001b[0m \u001b[32m━━━━━━━━━━━━━━━━━━━━\u001b[0m\u001b[37m\u001b[0m \u001b[1m82s\u001b[0m 106ms/step - accuracy: 0.8026 - accuracy_error: 0.1974 - loss: 0.5696 - learning_rate: 0.1000\n",
      "Epoch 53/160\n",
      "\u001b[1m391/391\u001b[0m \u001b[32m━━━━━━━━━━━━━━━━━━━━\u001b[0m\u001b[37m\u001b[0m \u001b[1m41s\u001b[0m 105ms/step - accuracy: 0.8019 - accuracy_error: 0.1981 - loss: 0.5662 - learning_rate: 0.1000\n",
      "Epoch 54/160\n",
      "\u001b[1m391/391\u001b[0m \u001b[32m━━━━━━━━━━━━━━━━━━━━\u001b[0m\u001b[37m\u001b[0m \u001b[1m41s\u001b[0m 106ms/step - accuracy: 0.8064 - accuracy_error: 0.1936 - loss: 0.5603 - learning_rate: 0.1000\n",
      "Epoch 55/160\n",
      "\u001b[1m391/391\u001b[0m \u001b[32m━━━━━━━━━━━━━━━━━━━━\u001b[0m\u001b[37m\u001b[0m \u001b[1m41s\u001b[0m 106ms/step - accuracy: 0.8110 - accuracy_error: 0.1890 - loss: 0.5473 - learning_rate: 0.1000\n",
      "Epoch 56/160\n",
      "\u001b[1m391/391\u001b[0m \u001b[32m━━━━━━━━━━━━━━━━━━━━\u001b[0m\u001b[37m\u001b[0m \u001b[1m41s\u001b[0m 106ms/step - accuracy: 0.8128 - accuracy_error: 0.1872 - loss: 0.5393 - learning_rate: 0.1000\n",
      "Epoch 57/160\n",
      "\u001b[1m391/391\u001b[0m \u001b[32m━━━━━━━━━━━━━━━━━━━━\u001b[0m\u001b[37m\u001b[0m \u001b[1m82s\u001b[0m 106ms/step - accuracy: 0.8151 - accuracy_error: 0.1849 - loss: 0.5320 - learning_rate: 0.1000\n",
      "Epoch 58/160\n",
      "\u001b[1m391/391\u001b[0m \u001b[32m━━━━━━━━━━━━━━━━━━━━\u001b[0m\u001b[37m\u001b[0m \u001b[1m43s\u001b[0m 111ms/step - accuracy: 0.8183 - accuracy_error: 0.1817 - loss: 0.5281 - learning_rate: 0.1000\n",
      "Epoch 59/160\n",
      "\u001b[1m391/391\u001b[0m \u001b[32m━━━━━━━━━━━━━━━━━━━━\u001b[0m\u001b[37m\u001b[0m \u001b[1m78s\u001b[0m 100ms/step - accuracy: 0.8168 - accuracy_error: 0.1832 - loss: 0.5255 - learning_rate: 0.1000\n",
      "Epoch 60/160\n",
      "\u001b[1m391/391\u001b[0m \u001b[32m━━━━━━━━━━━━━━━━━━━━\u001b[0m\u001b[37m\u001b[0m \u001b[1m42s\u001b[0m 102ms/step - accuracy: 0.8232 - accuracy_error: 0.1768 - loss: 0.5172 - learning_rate: 0.1000\n",
      "Epoch 61/160\n",
      "\u001b[1m391/391\u001b[0m \u001b[32m━━━━━━━━━━━━━━━━━━━━\u001b[0m\u001b[37m\u001b[0m \u001b[1m41s\u001b[0m 106ms/step - accuracy: 0.8210 - accuracy_error: 0.1790 - loss: 0.5209 - learning_rate: 0.1000\n",
      "Epoch 62/160\n",
      "\u001b[1m391/391\u001b[0m \u001b[32m━━━━━━━━━━━━━━━━━━━━\u001b[0m\u001b[37m\u001b[0m \u001b[1m41s\u001b[0m 106ms/step - accuracy: 0.8253 - accuracy_error: 0.1747 - loss: 0.5098 - learning_rate: 0.1000\n",
      "Epoch 63/160\n",
      "\u001b[1m391/391\u001b[0m \u001b[32m━━━━━━━━━━━━━━━━━━━━\u001b[0m\u001b[37m\u001b[0m \u001b[1m82s\u001b[0m 106ms/step - accuracy: 0.8236 - accuracy_error: 0.1764 - loss: 0.5053 - learning_rate: 0.1000\n",
      "Epoch 64/160\n",
      "\u001b[1m391/391\u001b[0m \u001b[32m━━━━━━━━━━━━━━━━━━━━\u001b[0m\u001b[37m\u001b[0m \u001b[1m40s\u001b[0m 102ms/step - accuracy: 0.8231 - accuracy_error: 0.1769 - loss: 0.5077 - learning_rate: 0.1000\n",
      "Epoch 65/160\n",
      "\u001b[1m391/391\u001b[0m \u001b[32m━━━━━━━━━━━━━━━━━━━━\u001b[0m\u001b[37m\u001b[0m \u001b[1m39s\u001b[0m 101ms/step - accuracy: 0.8310 - accuracy_error: 0.1690 - loss: 0.4973 - learning_rate: 0.1000\n",
      "Epoch 66/160\n",
      "\u001b[1m391/391\u001b[0m \u001b[32m━━━━━━━━━━━━━━━━━━━━\u001b[0m\u001b[37m\u001b[0m \u001b[1m41s\u001b[0m 104ms/step - accuracy: 0.8283 - accuracy_error: 0.1717 - loss: 0.4945 - learning_rate: 0.1000\n",
      "Epoch 67/160\n",
      "\u001b[1m391/391\u001b[0m \u001b[32m━━━━━━━━━━━━━━━━━━━━\u001b[0m\u001b[37m\u001b[0m \u001b[1m41s\u001b[0m 105ms/step - accuracy: 0.8307 - accuracy_error: 0.1693 - loss: 0.4942 - learning_rate: 0.1000\n",
      "Epoch 68/160\n",
      "\u001b[1m391/391\u001b[0m \u001b[32m━━━━━━━━━━━━━━━━━━━━\u001b[0m\u001b[37m\u001b[0m \u001b[1m41s\u001b[0m 106ms/step - accuracy: 0.8301 - accuracy_error: 0.1699 - loss: 0.4903 - learning_rate: 0.1000\n",
      "Epoch 69/160\n",
      "\u001b[1m391/391\u001b[0m \u001b[32m━━━━━━━━━━━━━━━━━━━━\u001b[0m\u001b[37m\u001b[0m \u001b[1m41s\u001b[0m 106ms/step - accuracy: 0.8317 - accuracy_error: 0.1683 - loss: 0.4839 - learning_rate: 0.1000\n",
      "Epoch 70/160\n",
      "\u001b[1m391/391\u001b[0m \u001b[32m━━━━━━━━━━━━━━━━━━━━\u001b[0m\u001b[37m\u001b[0m \u001b[1m41s\u001b[0m 106ms/step - accuracy: 0.8346 - accuracy_error: 0.1654 - loss: 0.4806 - learning_rate: 0.1000\n",
      "Epoch 71/160\n",
      "\u001b[1m391/391\u001b[0m \u001b[32m━━━━━━━━━━━━━━━━━━━━\u001b[0m\u001b[37m\u001b[0m \u001b[1m42s\u001b[0m 106ms/step - accuracy: 0.8388 - accuracy_error: 0.1612 - loss: 0.4650 - learning_rate: 0.1000\n",
      "Epoch 72/160\n",
      "\u001b[1m391/391\u001b[0m \u001b[32m━━━━━━━━━━━━━━━━━━━━\u001b[0m\u001b[37m\u001b[0m \u001b[1m82s\u001b[0m 107ms/step - accuracy: 0.8383 - accuracy_error: 0.1617 - loss: 0.4699 - learning_rate: 0.1000\n",
      "Epoch 73/160\n",
      "\u001b[1m391/391\u001b[0m \u001b[32m━━━━━━━━━━━━━━━━━━━━\u001b[0m\u001b[37m\u001b[0m \u001b[1m42s\u001b[0m 106ms/step - accuracy: 0.8392 - accuracy_error: 0.1608 - loss: 0.4608 - learning_rate: 0.1000\n",
      "Epoch 74/160\n",
      "\u001b[1m391/391\u001b[0m \u001b[32m━━━━━━━━━━━━━━━━━━━━\u001b[0m\u001b[37m\u001b[0m \u001b[1m42s\u001b[0m 106ms/step - accuracy: 0.8422 - accuracy_error: 0.1578 - loss: 0.4607 - learning_rate: 0.1000\n",
      "Epoch 75/160\n",
      "\u001b[1m391/391\u001b[0m \u001b[32m━━━━━━━━━━━━━━━━━━━━\u001b[0m\u001b[37m\u001b[0m \u001b[1m82s\u001b[0m 106ms/step - accuracy: 0.8442 - accuracy_error: 0.1558 - loss: 0.4462 - learning_rate: 0.1000\n",
      "Epoch 76/160\n",
      "\u001b[1m391/391\u001b[0m \u001b[32m━━━━━━━━━━━━━━━━━━━━\u001b[0m\u001b[37m\u001b[0m \u001b[1m42s\u001b[0m 106ms/step - accuracy: 0.8442 - accuracy_error: 0.1558 - loss: 0.4523 - learning_rate: 0.1000\n",
      "Epoch 77/160\n",
      "\u001b[1m391/391\u001b[0m \u001b[32m━━━━━━━━━━━━━━━━━━━━\u001b[0m\u001b[37m\u001b[0m \u001b[1m42s\u001b[0m 106ms/step - accuracy: 0.8462 - accuracy_error: 0.1538 - loss: 0.4461 - learning_rate: 0.1000\n",
      "Epoch 78/160\n",
      "\u001b[1m391/391\u001b[0m \u001b[32m━━━━━━━━━━━━━━━━━━━━\u001b[0m\u001b[37m\u001b[0m \u001b[1m82s\u001b[0m 106ms/step - accuracy: 0.8459 - accuracy_error: 0.1541 - loss: 0.4499 - learning_rate: 0.1000\n",
      "Epoch 79/160\n",
      "\u001b[1m391/391\u001b[0m \u001b[32m━━━━━━━━━━━━━━━━━━━━\u001b[0m\u001b[37m\u001b[0m \u001b[1m41s\u001b[0m 106ms/step - accuracy: 0.8467 - accuracy_error: 0.1533 - loss: 0.4384 - learning_rate: 0.1000\n",
      "Epoch 80/160\n",
      "\u001b[1m391/391\u001b[0m \u001b[32m━━━━━━━━━━━━━━━━━━━━\u001b[0m\u001b[37m\u001b[0m \u001b[1m82s\u001b[0m 106ms/step - accuracy: 0.8485 - accuracy_error: 0.1515 - loss: 0.4383 - learning_rate: 0.1000\n",
      "Epoch 81/160\n",
      "\u001b[1m391/391\u001b[0m \u001b[32m━━━━━━━━━━━━━━━━━━━━\u001b[0m\u001b[37m\u001b[0m \u001b[1m41s\u001b[0m 106ms/step - accuracy: 0.8583 - accuracy_error: 0.1417 - loss: 0.4083 - learning_rate: 0.0100\n",
      "Epoch 82/160\n",
      "\u001b[1m391/391\u001b[0m \u001b[32m━━━━━━━━━━━━━━━━━━━━\u001b[0m\u001b[37m\u001b[0m \u001b[1m42s\u001b[0m 106ms/step - accuracy: 0.8807 - accuracy_error: 0.1193 - loss: 0.3447 - learning_rate: 0.0100\n",
      "Epoch 83/160\n",
      "\u001b[1m391/391\u001b[0m \u001b[32m━━━━━━━━━━━━━━━━━━━━\u001b[0m\u001b[37m\u001b[0m \u001b[1m42s\u001b[0m 106ms/step - accuracy: 0.8859 - accuracy_error: 0.1141 - loss: 0.3302 - learning_rate: 0.0100\n",
      "Epoch 84/160\n",
      "\u001b[1m391/391\u001b[0m \u001b[32m━━━━━━━━━━━━━━━━━━━━\u001b[0m\u001b[37m\u001b[0m \u001b[1m82s\u001b[0m 106ms/step - accuracy: 0.8856 - accuracy_error: 0.1144 - loss: 0.3301 - learning_rate: 0.0100\n",
      "Epoch 85/160\n",
      "\u001b[1m391/391\u001b[0m \u001b[32m━━━━━━━━━━━━━━━━━━━━\u001b[0m\u001b[37m\u001b[0m \u001b[1m42s\u001b[0m 107ms/step - accuracy: 0.8891 - accuracy_error: 0.1109 - loss: 0.3167 - learning_rate: 0.0100\n",
      "Epoch 86/160\n",
      "\u001b[1m391/391\u001b[0m \u001b[32m━━━━━━━━━━━━━━━━━━━━\u001b[0m\u001b[37m\u001b[0m \u001b[1m42s\u001b[0m 107ms/step - accuracy: 0.8877 - accuracy_error: 0.1123 - loss: 0.3224 - learning_rate: 0.0100\n",
      "Epoch 87/160\n",
      "\u001b[1m391/391\u001b[0m \u001b[32m━━━━━━━━━━━━━━━━━━━━\u001b[0m\u001b[37m\u001b[0m \u001b[1m42s\u001b[0m 106ms/step - accuracy: 0.8921 - accuracy_error: 0.1079 - loss: 0.3110 - learning_rate: 0.0100\n",
      "Epoch 88/160\n",
      "\u001b[1m391/391\u001b[0m \u001b[32m━━━━━━━━━━━━━━━━━━━━\u001b[0m\u001b[37m\u001b[0m \u001b[1m42s\u001b[0m 106ms/step - accuracy: 0.8895 - accuracy_error: 0.1105 - loss: 0.3165 - learning_rate: 0.0100\n",
      "Epoch 89/160\n",
      "\u001b[1m391/391\u001b[0m \u001b[32m━━━━━━━━━━━━━━━━━━━━\u001b[0m\u001b[37m\u001b[0m \u001b[1m41s\u001b[0m 106ms/step - accuracy: 0.8926 - accuracy_error: 0.1074 - loss: 0.3101 - learning_rate: 0.0100\n",
      "Epoch 90/160\n",
      "\u001b[1m391/391\u001b[0m \u001b[32m━━━━━━━━━━━━━━━━━━━━\u001b[0m\u001b[37m\u001b[0m \u001b[1m42s\u001b[0m 106ms/step - accuracy: 0.8899 - accuracy_error: 0.1101 - loss: 0.3153 - learning_rate: 0.0100\n",
      "Epoch 91/160\n",
      "\u001b[1m391/391\u001b[0m \u001b[32m━━━━━━━━━━━━━━━━━━━━\u001b[0m\u001b[37m\u001b[0m \u001b[1m41s\u001b[0m 106ms/step - accuracy: 0.8928 - accuracy_error: 0.1072 - loss: 0.3096 - learning_rate: 0.0100\n",
      "Epoch 92/160\n",
      "\u001b[1m391/391\u001b[0m \u001b[32m━━━━━━━━━━━━━━━━━━━━\u001b[0m\u001b[37m\u001b[0m \u001b[1m82s\u001b[0m 107ms/step - accuracy: 0.8928 - accuracy_error: 0.1072 - loss: 0.3060 - learning_rate: 0.0100\n",
      "Epoch 93/160\n",
      "\u001b[1m391/391\u001b[0m \u001b[32m━━━━━━━━━━━━━━━━━━━━\u001b[0m\u001b[37m\u001b[0m \u001b[1m82s\u001b[0m 109ms/step - accuracy: 0.8927 - accuracy_error: 0.1073 - loss: 0.3043 - learning_rate: 0.0100\n",
      "Epoch 94/160\n",
      "\u001b[1m391/391\u001b[0m \u001b[32m━━━━━━━━━━━━━━━━━━━━\u001b[0m\u001b[37m\u001b[0m \u001b[1m41s\u001b[0m 104ms/step - accuracy: 0.8933 - accuracy_error: 0.1067 - loss: 0.3047 - learning_rate: 0.0100\n",
      "Epoch 95/160\n",
      "\u001b[1m391/391\u001b[0m \u001b[32m━━━━━━━━━━━━━━━━━━━━\u001b[0m\u001b[37m\u001b[0m \u001b[1m36s\u001b[0m 92ms/step - accuracy: 0.8962 - accuracy_error: 0.1038 - loss: 0.2993 - learning_rate: 0.0100\n",
      "Epoch 96/160\n",
      "\u001b[1m391/391\u001b[0m \u001b[32m━━━━━━━━━━━━━━━━━━━━\u001b[0m\u001b[37m\u001b[0m \u001b[1m36s\u001b[0m 92ms/step - accuracy: 0.8960 - accuracy_error: 0.1040 - loss: 0.3023 - learning_rate: 0.0100\n",
      "Epoch 97/160\n",
      "\u001b[1m391/391\u001b[0m \u001b[32m━━━━━━━━━━━━━━━━━━━━\u001b[0m\u001b[37m\u001b[0m \u001b[1m39s\u001b[0m 99ms/step - accuracy: 0.8972 - accuracy_error: 0.1028 - loss: 0.2994 - learning_rate: 0.0100\n",
      "Epoch 98/160\n",
      "\u001b[1m391/391\u001b[0m \u001b[32m━━━━━━━━━━━━━━━━━━━━\u001b[0m\u001b[37m\u001b[0m \u001b[1m40s\u001b[0m 103ms/step - accuracy: 0.8963 - accuracy_error: 0.1037 - loss: 0.2959 - learning_rate: 0.0100\n",
      "Epoch 99/160\n",
      "\u001b[1m391/391\u001b[0m \u001b[32m━━━━━━━━━━━━━━━━━━━━\u001b[0m\u001b[37m\u001b[0m \u001b[1m40s\u001b[0m 101ms/step - accuracy: 0.8953 - accuracy_error: 0.1047 - loss: 0.2990 - learning_rate: 0.0100\n",
      "Epoch 100/160\n",
      "\u001b[1m391/391\u001b[0m \u001b[32m━━━━━━━━━━━━━━━━━━━━\u001b[0m\u001b[37m\u001b[0m \u001b[1m38s\u001b[0m 96ms/step - accuracy: 0.8957 - accuracy_error: 0.1043 - loss: 0.2962 - learning_rate: 0.0100\n",
      "Epoch 101/160\n",
      "\u001b[1m391/391\u001b[0m \u001b[32m━━━━━━━━━━━━━━━━━━━━\u001b[0m\u001b[37m\u001b[0m \u001b[1m38s\u001b[0m 97ms/step - accuracy: 0.9000 - accuracy_error: 0.1000 - loss: 0.2930 - learning_rate: 0.0100\n",
      "Epoch 102/160\n",
      "\u001b[1m391/391\u001b[0m \u001b[32m━━━━━━━━━━━━━━━━━━━━\u001b[0m\u001b[37m\u001b[0m \u001b[1m40s\u001b[0m 103ms/step - accuracy: 0.8994 - accuracy_error: 0.1006 - loss: 0.2930 - learning_rate: 0.0100\n",
      "Epoch 103/160\n",
      "\u001b[1m391/391\u001b[0m \u001b[32m━━━━━━━━━━━━━━━━━━━━\u001b[0m\u001b[37m\u001b[0m \u001b[1m42s\u001b[0m 106ms/step - accuracy: 0.8983 - accuracy_error: 0.1017 - loss: 0.2897 - learning_rate: 0.0100\n",
      "Epoch 104/160\n",
      "\u001b[1m391/391\u001b[0m \u001b[32m━━━━━━━━━━━━━━━━━━━━\u001b[0m\u001b[37m\u001b[0m \u001b[1m41s\u001b[0m 106ms/step - accuracy: 0.8975 - accuracy_error: 0.1025 - loss: 0.2904 - learning_rate: 0.0100\n",
      "Epoch 105/160\n",
      "\u001b[1m391/391\u001b[0m \u001b[32m━━━━━━━━━━━━━━━━━━━━\u001b[0m\u001b[37m\u001b[0m \u001b[1m41s\u001b[0m 106ms/step - accuracy: 0.9008 - accuracy_error: 0.0992 - loss: 0.2837 - learning_rate: 0.0100\n",
      "Epoch 106/160\n",
      "\u001b[1m391/391\u001b[0m \u001b[32m━━━━━━━━━━━━━━━━━━━━\u001b[0m\u001b[37m\u001b[0m \u001b[1m82s\u001b[0m 107ms/step - accuracy: 0.8975 - accuracy_error: 0.1025 - loss: 0.2914 - learning_rate: 0.0100\n",
      "Epoch 107/160\n",
      "\u001b[1m391/391\u001b[0m \u001b[32m━━━━━━━━━━━━━━━━━━━━\u001b[0m\u001b[37m\u001b[0m \u001b[1m42s\u001b[0m 106ms/step - accuracy: 0.9002 - accuracy_error: 0.0998 - loss: 0.2849 - learning_rate: 0.0100\n",
      "Epoch 108/160\n",
      "\u001b[1m391/391\u001b[0m \u001b[32m━━━━━━━━━━━━━━━━━━━━\u001b[0m\u001b[37m\u001b[0m \u001b[1m41s\u001b[0m 105ms/step - accuracy: 0.8999 - accuracy_error: 0.1001 - loss: 0.2823 - learning_rate: 0.0100\n",
      "Epoch 109/160\n",
      "\u001b[1m391/391\u001b[0m \u001b[32m━━━━━━━━━━━━━━━━━━━━\u001b[0m\u001b[37m\u001b[0m \u001b[1m40s\u001b[0m 102ms/step - accuracy: 0.9016 - accuracy_error: 0.0984 - loss: 0.2846 - learning_rate: 0.0100\n",
      "Epoch 110/160\n",
      "\u001b[1m391/391\u001b[0m \u001b[32m━━━━━━━━━━━━━━━━━━━━\u001b[0m\u001b[37m\u001b[0m \u001b[1m41s\u001b[0m 105ms/step - accuracy: 0.9030 - accuracy_error: 0.0970 - loss: 0.2782 - learning_rate: 0.0100\n",
      "Epoch 111/160\n",
      "\u001b[1m391/391\u001b[0m \u001b[32m━━━━━━━━━━━━━━━━━━━━\u001b[0m\u001b[37m\u001b[0m \u001b[1m41s\u001b[0m 106ms/step - accuracy: 0.9004 - accuracy_error: 0.0996 - loss: 0.2834 - learning_rate: 0.0100\n",
      "Epoch 112/160\n",
      "\u001b[1m391/391\u001b[0m \u001b[32m━━━━━━━━━━━━━━━━━━━━\u001b[0m\u001b[37m\u001b[0m \u001b[1m82s\u001b[0m 106ms/step - accuracy: 0.9022 - accuracy_error: 0.0978 - loss: 0.2768 - learning_rate: 0.0100\n",
      "Epoch 113/160\n",
      "\u001b[1m391/391\u001b[0m \u001b[32m━━━━━━━━━━━━━━━━━━━━\u001b[0m\u001b[37m\u001b[0m \u001b[1m42s\u001b[0m 106ms/step - accuracy: 0.9041 - accuracy_error: 0.0959 - loss: 0.2709 - learning_rate: 0.0100\n",
      "Epoch 114/160\n",
      "\u001b[1m391/391\u001b[0m \u001b[32m━━━━━━━━━━━━━━━━━━━━\u001b[0m\u001b[37m\u001b[0m \u001b[1m41s\u001b[0m 106ms/step - accuracy: 0.9017 - accuracy_error: 0.0983 - loss: 0.2806 - learning_rate: 0.0100\n",
      "Epoch 115/160\n",
      "\u001b[1m391/391\u001b[0m \u001b[32m━━━━━━━━━━━━━━━━━━━━\u001b[0m\u001b[37m\u001b[0m \u001b[1m41s\u001b[0m 106ms/step - accuracy: 0.9029 - accuracy_error: 0.0971 - loss: 0.2793 - learning_rate: 0.0100\n",
      "Epoch 116/160\n",
      "\u001b[1m391/391\u001b[0m \u001b[32m━━━━━━━━━━━━━━━━━━━━\u001b[0m\u001b[37m\u001b[0m \u001b[1m82s\u001b[0m 107ms/step - accuracy: 0.9023 - accuracy_error: 0.0977 - loss: 0.2742 - learning_rate: 0.0100\n",
      "Epoch 117/160\n",
      "\u001b[1m391/391\u001b[0m \u001b[32m━━━━━━━━━━━━━━━━━━━━\u001b[0m\u001b[37m\u001b[0m \u001b[1m82s\u001b[0m 106ms/step - accuracy: 0.9060 - accuracy_error: 0.0940 - loss: 0.2708 - learning_rate: 0.0100\n",
      "Epoch 118/160\n",
      "\u001b[1m391/391\u001b[0m \u001b[32m━━━━━━━━━━━━━━━━━━━━\u001b[0m\u001b[37m\u001b[0m \u001b[1m85s\u001b[0m 114ms/step - accuracy: 0.9071 - accuracy_error: 0.0929 - loss: 0.2702 - learning_rate: 0.0100\n",
      "Epoch 119/160\n",
      "\u001b[1m391/391\u001b[0m \u001b[32m━━━━━━━━━━━━━━━━━━━━\u001b[0m\u001b[37m\u001b[0m \u001b[1m42s\u001b[0m 109ms/step - accuracy: 0.9065 - accuracy_error: 0.0935 - loss: 0.2684 - learning_rate: 0.0100\n",
      "Epoch 120/160\n",
      "\u001b[1m391/391\u001b[0m \u001b[32m━━━━━━━━━━━━━━━━━━━━\u001b[0m\u001b[37m\u001b[0m \u001b[1m42s\u001b[0m 108ms/step - accuracy: 0.9028 - accuracy_error: 0.0972 - loss: 0.2730 - learning_rate: 0.0100\n",
      "Epoch 121/160\n",
      "\u001b[1m391/391\u001b[0m \u001b[32m━━━━━━━━━━━━━━━━━━━━\u001b[0m\u001b[37m\u001b[0m \u001b[1m42s\u001b[0m 108ms/step - accuracy: 0.9047 - accuracy_error: 0.0953 - loss: 0.2694 - learning_rate: 0.0100\n",
      "Epoch 122/160\n",
      "\u001b[1m391/391\u001b[0m \u001b[32m━━━━━━━━━━━━━━━━━━━━\u001b[0m\u001b[37m\u001b[0m \u001b[1m41s\u001b[0m 104ms/step - accuracy: 0.9069 - accuracy_error: 0.0931 - loss: 0.2645 - learning_rate: 0.0100\n",
      "Epoch 123/160\n",
      "\u001b[1m391/391\u001b[0m \u001b[32m━━━━━━━━━━━━━━━━━━━━\u001b[0m\u001b[37m\u001b[0m \u001b[1m42s\u001b[0m 106ms/step - accuracy: 0.9068 - accuracy_error: 0.0932 - loss: 0.2657 - learning_rate: 1.0000e-03\n",
      "Epoch 124/160\n",
      "\u001b[1m391/391\u001b[0m \u001b[32m━━━━━━━━━━━━━━━━━━━━\u001b[0m\u001b[37m\u001b[0m \u001b[1m42s\u001b[0m 106ms/step - accuracy: 0.9116 - accuracy_error: 0.0884 - loss: 0.2558 - learning_rate: 1.0000e-03\n",
      "Epoch 125/160\n",
      "\u001b[1m391/391\u001b[0m \u001b[32m━━━━━━━━━━━━━━━━━━━━\u001b[0m\u001b[37m\u001b[0m \u001b[1m42s\u001b[0m 107ms/step - accuracy: 0.9118 - accuracy_error: 0.0882 - loss: 0.2534 - learning_rate: 1.0000e-03\n",
      "Epoch 126/160\n",
      "\u001b[1m391/391\u001b[0m \u001b[32m━━━━━━━━━━━━━━━━━━━━\u001b[0m\u001b[37m\u001b[0m \u001b[1m42s\u001b[0m 106ms/step - accuracy: 0.9101 - accuracy_error: 0.0899 - loss: 0.2526 - learning_rate: 1.0000e-03\n",
      "Epoch 127/160\n",
      "\u001b[1m391/391\u001b[0m \u001b[32m━━━━━━━━━━━━━━━━━━━━\u001b[0m\u001b[37m\u001b[0m \u001b[1m82s\u001b[0m 106ms/step - accuracy: 0.9096 - accuracy_error: 0.0904 - loss: 0.2595 - learning_rate: 1.0000e-03\n",
      "Epoch 128/160\n",
      "\u001b[1m391/391\u001b[0m \u001b[32m━━━━━━━━━━━━━━━━━━━━\u001b[0m\u001b[37m\u001b[0m \u001b[1m42s\u001b[0m 106ms/step - accuracy: 0.9084 - accuracy_error: 0.0916 - loss: 0.2615 - learning_rate: 1.0000e-03\n",
      "Epoch 129/160\n",
      "\u001b[1m391/391\u001b[0m \u001b[32m━━━━━━━━━━━━━━━━━━━━\u001b[0m\u001b[37m\u001b[0m \u001b[1m42s\u001b[0m 106ms/step - accuracy: 0.9111 - accuracy_error: 0.0889 - loss: 0.2568 - learning_rate: 1.0000e-03\n",
      "Epoch 130/160\n",
      "\u001b[1m391/391\u001b[0m \u001b[32m━━━━━━━━━━━━━━━━━━━━\u001b[0m\u001b[37m\u001b[0m \u001b[1m42s\u001b[0m 106ms/step - accuracy: 0.9111 - accuracy_error: 0.0889 - loss: 0.2531 - learning_rate: 1.0000e-03\n",
      "Epoch 131/160\n",
      "\u001b[1m391/391\u001b[0m \u001b[32m━━━━━━━━━━━━━━━━━━━━\u001b[0m\u001b[37m\u001b[0m \u001b[1m42s\u001b[0m 107ms/step - accuracy: 0.9090 - accuracy_error: 0.0910 - loss: 0.2590 - learning_rate: 1.0000e-03\n",
      "Epoch 132/160\n",
      "\u001b[1m391/391\u001b[0m \u001b[32m━━━━━━━━━━━━━━━━━━━━\u001b[0m\u001b[37m\u001b[0m \u001b[1m41s\u001b[0m 106ms/step - accuracy: 0.9085 - accuracy_error: 0.0915 - loss: 0.2595 - learning_rate: 1.0000e-03\n",
      "Epoch 133/160\n",
      "\u001b[1m391/391\u001b[0m \u001b[32m━━━━━━━━━━━━━━━━━━━━\u001b[0m\u001b[37m\u001b[0m \u001b[1m41s\u001b[0m 106ms/step - accuracy: 0.9095 - accuracy_error: 0.0905 - loss: 0.2560 - learning_rate: 1.0000e-03\n",
      "Epoch 134/160\n",
      "\u001b[1m391/391\u001b[0m \u001b[32m━━━━━━━━━━━━━━━━━━━━\u001b[0m\u001b[37m\u001b[0m \u001b[1m41s\u001b[0m 106ms/step - accuracy: 0.9113 - accuracy_error: 0.0887 - loss: 0.2529 - learning_rate: 1.0000e-03\n",
      "Epoch 135/160\n",
      "\u001b[1m391/391\u001b[0m \u001b[32m━━━━━━━━━━━━━━━━━━━━\u001b[0m\u001b[37m\u001b[0m \u001b[1m41s\u001b[0m 106ms/step - accuracy: 0.9095 - accuracy_error: 0.0905 - loss: 0.2600 - learning_rate: 1.0000e-03\n",
      "Epoch 136/160\n",
      "\u001b[1m391/391\u001b[0m \u001b[32m━━━━━━━━━━━━━━━━━━━━\u001b[0m\u001b[37m\u001b[0m \u001b[1m41s\u001b[0m 106ms/step - accuracy: 0.9118 - accuracy_error: 0.0882 - loss: 0.2531 - learning_rate: 1.0000e-03\n",
      "Epoch 137/160\n",
      "\u001b[1m391/391\u001b[0m \u001b[32m━━━━━━━━━━━━━━━━━━━━\u001b[0m\u001b[37m\u001b[0m \u001b[1m42s\u001b[0m 106ms/step - accuracy: 0.9106 - accuracy_error: 0.0894 - loss: 0.2550 - learning_rate: 1.0000e-03\n",
      "Epoch 138/160\n",
      "\u001b[1m391/391\u001b[0m \u001b[32m━━━━━━━━━━━━━━━━━━━━\u001b[0m\u001b[37m\u001b[0m \u001b[1m41s\u001b[0m 106ms/step - accuracy: 0.9117 - accuracy_error: 0.0883 - loss: 0.2573 - learning_rate: 1.0000e-03\n",
      "Epoch 139/160\n",
      "\u001b[1m391/391\u001b[0m \u001b[32m━━━━━━━━━━━━━━━━━━━━\u001b[0m\u001b[37m\u001b[0m \u001b[1m42s\u001b[0m 106ms/step - accuracy: 0.9114 - accuracy_error: 0.0886 - loss: 0.2548 - learning_rate: 1.0000e-03\n",
      "Epoch 140/160\n",
      "\u001b[1m391/391\u001b[0m \u001b[32m━━━━━━━━━━━━━━━━━━━━\u001b[0m\u001b[37m\u001b[0m \u001b[1m82s\u001b[0m 106ms/step - accuracy: 0.9126 - accuracy_error: 0.0874 - loss: 0.2538 - learning_rate: 1.0000e-03\n",
      "Epoch 141/160\n",
      "\u001b[1m391/391\u001b[0m \u001b[32m━━━━━━━━━━━━━━━━━━━━\u001b[0m\u001b[37m\u001b[0m \u001b[1m41s\u001b[0m 106ms/step - accuracy: 0.9125 - accuracy_error: 0.0875 - loss: 0.2472 - learning_rate: 1.0000e-03\n",
      "Epoch 142/160\n",
      "\u001b[1m391/391\u001b[0m \u001b[32m━━━━━━━━━━━━━━━━━━━━\u001b[0m\u001b[37m\u001b[0m \u001b[1m82s\u001b[0m 106ms/step - accuracy: 0.9119 - accuracy_error: 0.0881 - loss: 0.2524 - learning_rate: 1.0000e-03\n",
      "Epoch 143/160\n",
      "\u001b[1m391/391\u001b[0m \u001b[32m━━━━━━━━━━━━━━━━━━━━\u001b[0m\u001b[37m\u001b[0m \u001b[1m42s\u001b[0m 106ms/step - accuracy: 0.9142 - accuracy_error: 0.0858 - loss: 0.2511 - learning_rate: 1.0000e-03\n",
      "Epoch 144/160\n",
      "\u001b[1m391/391\u001b[0m \u001b[32m━━━━━━━━━━━━━━━━━━━━\u001b[0m\u001b[37m\u001b[0m \u001b[1m83s\u001b[0m 108ms/step - accuracy: 0.9107 - accuracy_error: 0.0893 - loss: 0.2572 - learning_rate: 1.0000e-03\n",
      "Epoch 145/160\n",
      "\u001b[1m391/391\u001b[0m \u001b[32m━━━━━━━━━━━━━━━━━━━━\u001b[0m\u001b[37m\u001b[0m \u001b[1m43s\u001b[0m 109ms/step - accuracy: 0.9125 - accuracy_error: 0.0875 - loss: 0.2547 - learning_rate: 1.0000e-03\n",
      "Epoch 146/160\n",
      "\u001b[1m391/391\u001b[0m \u001b[32m━━━━━━━━━━━━━━━━━━━━\u001b[0m\u001b[37m\u001b[0m \u001b[1m43s\u001b[0m 110ms/step - accuracy: 0.9102 - accuracy_error: 0.0898 - loss: 0.2546 - learning_rate: 1.0000e-03\n",
      "Epoch 147/160\n",
      "\u001b[1m391/391\u001b[0m \u001b[32m━━━━━━━━━━━━━━━━━━━━\u001b[0m\u001b[37m\u001b[0m \u001b[1m43s\u001b[0m 109ms/step - accuracy: 0.9117 - accuracy_error: 0.0883 - loss: 0.2529 - learning_rate: 1.0000e-03\n",
      "Epoch 148/160\n",
      "\u001b[1m391/391\u001b[0m \u001b[32m━━━━━━━━━━━━━━━━━━━━\u001b[0m\u001b[37m\u001b[0m \u001b[1m43s\u001b[0m 109ms/step - accuracy: 0.9119 - accuracy_error: 0.0881 - loss: 0.2486 - learning_rate: 1.0000e-03\n",
      "Epoch 149/160\n",
      "\u001b[1m391/391\u001b[0m \u001b[32m━━━━━━━━━━━━━━━━━━━━\u001b[0m\u001b[37m\u001b[0m \u001b[1m42s\u001b[0m 108ms/step - accuracy: 0.9116 - accuracy_error: 0.0884 - loss: 0.2497 - learning_rate: 1.0000e-03\n",
      "Epoch 150/160\n",
      "\u001b[1m391/391\u001b[0m \u001b[32m━━━━━━━━━━━━━━━━━━━━\u001b[0m\u001b[37m\u001b[0m \u001b[1m42s\u001b[0m 106ms/step - accuracy: 0.9114 - accuracy_error: 0.0886 - loss: 0.2495 - learning_rate: 1.0000e-03\n",
      "Epoch 151/160\n",
      "\u001b[1m391/391\u001b[0m \u001b[32m━━━━━━━━━━━━━━━━━━━━\u001b[0m\u001b[37m\u001b[0m \u001b[1m42s\u001b[0m 106ms/step - accuracy: 0.9116 - accuracy_error: 0.0884 - loss: 0.2515 - learning_rate: 1.0000e-03\n",
      "Epoch 152/160\n",
      "\u001b[1m391/391\u001b[0m \u001b[32m━━━━━━━━━━━━━━━━━━━━\u001b[0m\u001b[37m\u001b[0m \u001b[1m41s\u001b[0m 106ms/step - accuracy: 0.9102 - accuracy_error: 0.0898 - loss: 0.2579 - learning_rate: 1.0000e-03\n",
      "Epoch 153/160\n",
      "\u001b[1m391/391\u001b[0m \u001b[32m━━━━━━━━━━━━━━━━━━━━\u001b[0m\u001b[37m\u001b[0m \u001b[1m41s\u001b[0m 105ms/step - accuracy: 0.9123 - accuracy_error: 0.0877 - loss: 0.2462 - learning_rate: 1.0000e-03\n",
      "Epoch 154/160\n",
      "\u001b[1m391/391\u001b[0m \u001b[32m━━━━━━━━━━━━━━━━━━━━\u001b[0m\u001b[37m\u001b[0m \u001b[1m39s\u001b[0m 100ms/step - accuracy: 0.9135 - accuracy_error: 0.0865 - loss: 0.2473 - learning_rate: 1.0000e-03\n",
      "Epoch 155/160\n",
      "\u001b[1m391/391\u001b[0m \u001b[32m━━━━━━━━━━━━━━━━━━━━\u001b[0m\u001b[37m\u001b[0m \u001b[1m37s\u001b[0m 96ms/step - accuracy: 0.9139 - accuracy_error: 0.0861 - loss: 0.2536 - learning_rate: 1.0000e-03\n",
      "Epoch 156/160\n",
      "\u001b[1m391/391\u001b[0m \u001b[32m━━━━━━━━━━━━━━━━━━━━\u001b[0m\u001b[37m\u001b[0m \u001b[1m38s\u001b[0m 96ms/step - accuracy: 0.9092 - accuracy_error: 0.0908 - loss: 0.2576 - learning_rate: 1.0000e-03\n",
      "Epoch 157/160\n",
      "\u001b[1m391/391\u001b[0m \u001b[32m━━━━━━━━━━━━━━━━━━━━\u001b[0m\u001b[37m\u001b[0m \u001b[1m37s\u001b[0m 96ms/step - accuracy: 0.9125 - accuracy_error: 0.0875 - loss: 0.2470 - learning_rate: 1.0000e-03\n",
      "Epoch 158/160\n",
      "\u001b[1m391/391\u001b[0m \u001b[32m━━━━━━━━━━━━━━━━━━━━\u001b[0m\u001b[37m\u001b[0m \u001b[1m37s\u001b[0m 95ms/step - accuracy: 0.9144 - accuracy_error: 0.0856 - loss: 0.2449 - learning_rate: 1.0000e-03\n",
      "Epoch 159/160\n",
      "\u001b[1m391/391\u001b[0m \u001b[32m━━━━━━━━━━━━━━━━━━━━\u001b[0m\u001b[37m\u001b[0m \u001b[1m41s\u001b[0m 96ms/step - accuracy: 0.9136 - accuracy_error: 0.0864 - loss: 0.2464 - learning_rate: 1.0000e-03\n",
      "Epoch 160/160\n",
      "\u001b[1m391/391\u001b[0m \u001b[32m━━━━━━━━━━━━━━━━━━━━\u001b[0m\u001b[37m\u001b[0m \u001b[1m38s\u001b[0m 96ms/step - accuracy: 0.9129 - accuracy_error: 0.0871 - loss: 0.2497 - learning_rate: 1.0000e-03\n"
     ]
    },
    {
     "data": {
      "text/plain": [
       "<keras.src.callbacks.history.History at 0x7f35efbb4950>"
      ]
     },
     "execution_count": 14,
     "metadata": {},
     "output_type": "execute_result"
    }
   ],
   "source": [
    "cifar_resnet.fit(\n",
    "    x_train, y_train,\n",
    "    batch_size=128,\n",
    "    epochs=160,\n",
    "    callbacks=[lr_callback, tensorboard_callback]\n",
    ")"
   ]
  },
  {
   "cell_type": "code",
   "execution_count": 16,
   "metadata": {},
   "outputs": [
    {
     "name": "stdout",
     "output_type": "stream",
     "text": [
      "\u001b[1m313/313\u001b[0m \u001b[32m━━━━━━━━━━━━━━━━━━━━\u001b[0m\u001b[37m\u001b[0m \u001b[1m5s\u001b[0m 16ms/step - accuracy: 0.8517 - accuracy_error: 0.1483 - loss: 0.4568\n"
     ]
    },
    {
     "data": {
      "text/plain": [
       "[0.46245792508125305, 0.8511999845504761, 0.14880001544952393]"
      ]
     },
     "execution_count": 16,
     "metadata": {},
     "output_type": "execute_result"
    }
   ],
   "source": [
    "cifar_resnet.evaluate(x_test, y_test)"
   ]
  },
  {
   "cell_type": "code",
   "execution_count": null,
   "metadata": {},
   "outputs": [],
   "source": [
    "%tensorboard --logdir logs/fit/"
   ]
  }
 ],
 "metadata": {
  "accelerator": "GPU",
  "colab": {
   "authorship_tag": "ABX9TyMs6GsGjUqg/CSL4OeVBSpZ",
   "gpuType": "T4",
   "provenance": []
  },
  "kernelspec": {
   "display_name": "Python 3",
   "name": "python3"
  },
  "language_info": {
   "codemirror_mode": {
    "name": "ipython",
    "version": 3
   },
   "file_extension": ".py",
   "mimetype": "text/x-python",
   "name": "python",
   "nbconvert_exporter": "python",
   "pygments_lexer": "ipython3",
   "version": "3.11.0"
  }
 },
 "nbformat": 4,
 "nbformat_minor": 0
}
